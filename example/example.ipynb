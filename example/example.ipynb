{
 "cells": [
  {
   "cell_type": "markdown",
   "id": "79064ca4-3f9b-4652-ad82-b94593cc8e29",
   "metadata": {},
   "source": [
    "# Write Fortran code in a jupyter notebook!"
   ]
  },
  {
   "cell_type": "code",
   "execution_count": 1,
   "id": "7e4eccd0-e533-40a7-af76-95dc0b9e6467",
   "metadata": {
    "tags": []
   },
   "outputs": [
    {
     "name": "stdout",
     "output_type": "stream",
     "text": [
      " Hello, World!\n"
     ]
    }
   ],
   "source": [
    "program hello\n",
    "  ! This is a comment line; it is ignored by the compiler\n",
    "  print *, 'Hello, World!'\n",
    "end program hello"
   ]
  }
 ],
 "metadata": {
  "kernelspec": {
   "display_name": "Fortran",
   "language": "",
   "name": "jansfortrankernel"
  },
  "language_info": {
   "file_extension": ".f90",
   "mimetype": "application/fortran",
   "name": "fortran"
  }
 },
 "nbformat": 4,
 "nbformat_minor": 5
}
